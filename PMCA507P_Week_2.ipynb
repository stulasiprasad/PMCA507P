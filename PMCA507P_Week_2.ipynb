{
  "nbformat": 4,
  "nbformat_minor": 0,
  "metadata": {
    "colab": {
      "provenance": []
    },
    "kernelspec": {
      "name": "python3",
      "display_name": "Python 3"
    },
    "language_info": {
      "name": "python"
    }
  },
  "cells": [
    {
      "cell_type": "markdown",
      "source": [
        "# Enter your Details Here:"
      ],
      "metadata": {
        "id": "-VKVjgr9bbMu"
      }
    },
    {
      "cell_type": "code",
      "source": [
        "Num, Name, Week = input(\"Reg. Number:\"), input(\"Name:\"), input(\"Week:\")"
      ],
      "metadata": {
        "id": "8HXNV9-CfHXW"
      },
      "execution_count": null,
      "outputs": []
    },
    {
      "cell_type": "markdown",
      "source": [
        "### 1.Import the libraries"
      ],
      "metadata": {
        "id": "2YZsfjD9eDbm"
      }
    },
    {
      "cell_type": "code",
      "source": [],
      "metadata": {
        "id": "JMnOxUMgeKkz"
      },
      "execution_count": null,
      "outputs": []
    },
    {
      "cell_type": "markdown",
      "source": [
        "### 2. Import the dataset"
      ],
      "metadata": {
        "id": "xotLdjrQeK_G"
      }
    },
    {
      "cell_type": "code",
      "source": [],
      "metadata": {
        "id": "Ekd0LbP0eQgS"
      },
      "execution_count": null,
      "outputs": []
    },
    {
      "cell_type": "markdown",
      "source": [
        "### 3.Display the dataset information"
      ],
      "metadata": {
        "id": "BYMFbOo-eUg0"
      }
    },
    {
      "cell_type": "code",
      "source": [],
      "metadata": {
        "id": "gatnA3bgeaSH"
      },
      "execution_count": null,
      "outputs": []
    },
    {
      "cell_type": "markdown",
      "source": [
        "### 4.Drop the unnecessary columns from both `Train` and `Test` datasets"
      ],
      "metadata": {
        "id": "X0JRIF2YeeYE"
      }
    },
    {
      "cell_type": "code",
      "source": [],
      "metadata": {
        "id": "6GrnObe3eqLb"
      },
      "execution_count": null,
      "outputs": []
    },
    {
      "cell_type": "markdown",
      "source": [
        "### 5. Hanlde the misssing data"
      ],
      "metadata": {
        "id": "SP14KyYzeqee"
      }
    },
    {
      "cell_type": "code",
      "source": [],
      "metadata": {
        "id": "fcJzqHg_e7f4"
      },
      "execution_count": null,
      "outputs": []
    },
    {
      "cell_type": "markdown",
      "source": [
        "### 6. Encode the categorical data"
      ],
      "metadata": {
        "id": "Xqm3YBjSe_DN"
      }
    },
    {
      "cell_type": "code",
      "source": [],
      "metadata": {
        "id": "oKfbSfDsfDgM"
      },
      "execution_count": null,
      "outputs": []
    },
    {
      "cell_type": "markdown",
      "source": [
        "### 7.Split the Train & Test datasets"
      ],
      "metadata": {
        "id": "IAo4fdO_fEBI"
      }
    },
    {
      "cell_type": "markdown",
      "source": [],
      "metadata": {
        "id": "Otlr3RJrf-2v"
      }
    },
    {
      "cell_type": "markdown",
      "source": [
        "### 8. Do Feature Scaling if required"
      ],
      "metadata": {
        "id": "TDISDIA5fgDu"
      }
    },
    {
      "cell_type": "code",
      "source": [],
      "metadata": {
        "id": "T2YLGzKzf1iW"
      },
      "execution_count": null,
      "outputs": []
    },
    {
      "cell_type": "markdown",
      "source": [
        "### 9. Apply dimensionality reduction if required"
      ],
      "metadata": {
        "id": "goF_n7LCf2Qv"
      }
    },
    {
      "cell_type": "code",
      "source": [],
      "metadata": {
        "id": "wMHJKNl1f_9V"
      },
      "execution_count": null,
      "outputs": []
    },
    {
      "cell_type": "markdown",
      "source": [
        "### 10. Train the required model"
      ],
      "metadata": {
        "id": "tIh96WIHgG0K"
      }
    },
    {
      "cell_type": "code",
      "source": [],
      "metadata": {
        "id": "3Xeu_EIOiHOH"
      },
      "execution_count": null,
      "outputs": []
    },
    {
      "cell_type": "markdown",
      "source": [
        "### 11. Check the Model Performance()"
      ],
      "metadata": {
        "id": "FlW_Aozxhum3"
      }
    },
    {
      "cell_type": "code",
      "source": [],
      "metadata": {
        "id": "7hLBSutIiA1a"
      },
      "execution_count": null,
      "outputs": []
    },
    {
      "cell_type": "markdown",
      "source": [
        "### 12. Fine tune the model if required."
      ],
      "metadata": {
        "id": "rgphiL2YiABy"
      }
    },
    {
      "cell_type": "code",
      "source": [],
      "metadata": {
        "id": "pfP7M073iH-4"
      },
      "execution_count": null,
      "outputs": []
    },
    {
      "cell_type": "markdown",
      "source": [
        "### 13. Write Down your inferences."
      ],
      "metadata": {
        "id": "WIMLi6wRGLIW"
      }
    },
    {
      "cell_type": "markdown",
      "source": [
        "# For uploading you need to execute the follwing script"
      ],
      "metadata": {
        "id": "2u6RqcdHblXG"
      }
    },
    {
      "cell_type": "code",
      "source": [
        "from google.colab import auth\n",
        "auth.authenticate_user()\n",
        "import requests\n",
        "gcloud_token = !gcloud auth print-access-token\n",
        "gcloud_tokeninfo = requests.get('https://www.googleapis.com/oauth2/v3/tokeninfo?access_token=' + gcloud_token[0]).json()\n",
        "user = gcloud_tokeninfo['email']\n",
        "import datetime\n",
        "dt = datetime.datetime.now()\n",
        "x = str(dt).split('.')[0]\n",
        "print(f\"This Script is executed by: \",user, \"at\", x)"
      ],
      "metadata": {
        "id": "2X3xSbqWbqPc",
        "colab": {
          "base_uri": "https://localhost:8080/"
        },
        "outputId": "d526af68-52da-4d68-dd2d-f5836a1ba4ca"
      },
      "execution_count": null,
      "outputs": [
        {
          "output_type": "stream",
          "name": "stdout",
          "text": [
            "This Script is executed by:  tulasiprasad.sariki@vit.ac.in at 2024-01-09 04:26:22\n"
          ]
        }
      ]
    }
  ]
}